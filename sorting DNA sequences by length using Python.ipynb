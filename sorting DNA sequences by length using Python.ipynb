{
 "cells": [
  {
   "cell_type": "markdown",
   "metadata": {},
   "source": [
    "**How to sort DNA sequences by length using Python**\n",
    "Python for biologist"
   ]
  },
  {
   "cell_type": "code",
   "execution_count": null,
   "metadata": {},
   "outputs": [],
   "source": [
    "# Sorting DNA sequences by length using Python\n",
    "seqs = [\n",
    " 'ATAGCTGATCGTAGCTACGTACGATCG',\n",
    " 'CATCGTACATGC',\n",
    " 'TATGTGT',\n",
    " 'GCTGATCGTGACTGTAC',\n",
    " 'ACTGT'\n",
    "]"
   ]
  },
  {
   "cell_type": "code",
   "execution_count": null,
   "metadata": {
    "scrolled": true
   },
   "outputs": [],
   "source": [
    "seqs"
   ]
  },
  {
   "cell_type": "code",
   "execution_count": null,
   "metadata": {},
   "outputs": [],
   "source": [
    "# Returns a sorted copy of the list. It gets sorted by alphabetical order\n",
    "print(sorted(seqs))"
   ]
  },
  {
   "cell_type": "code",
   "execution_count": null,
   "metadata": {},
   "outputs": [],
   "source": [
    "print(seqs)\n",
    "print(seqs.sort())\n",
    "print(seqs) \n",
    "#Both sort() and sorted() use alphabetical order by default, so in order to get our DNA sequences sorted by length,\n",
    "#we'll have to figure out a way of expressing our sorting criteria."
   ]
  },
  {
   "cell_type": "markdown",
   "metadata": {},
   "source": [
    "sorted() is more flexible because it's capable of sorting not just lists, but any iterable data type. \n",
    "\n",
    "list.sort(), on the other hand, is limited to lists. \n",
    "\n",
    "There are two options for customizing the sorting criteria. We can either write a function that transforms each element into the value that we want to sort on, or write a function that compares two elements and decides which one should come first."
   ]
  },
  {
   "cell_type": "code",
   "execution_count": null,
   "metadata": {},
   "outputs": [],
   "source": [
    "# Function that transforms each element into the value that we want to sort on.\n",
    "\n",
    "def get_length(seq):\n",
    "    return len(seq)\n",
    "get_length('ATGATCGTAGC')"
   ]
  },
  {
   "cell_type": "code",
   "execution_count": null,
   "metadata": {},
   "outputs": [],
   "source": [
    "#When we supply this function as the key argument to the sorted() function, we get the result we're looking for:\n",
    "\n",
    "sorted(seqs, key=get_length)"
   ]
  },
  {
   "cell_type": "code",
   "execution_count": null,
   "metadata": {
    "scrolled": true
   },
   "outputs": [],
   "source": [
    "#In fact, we can simplify this considerably – since our get_length() function simply calls the built-in len() function and returns the result, we can just supply the name of the len() function directly, and get the same result:\n",
    "seq1 = sorted(seqs, key=len) #the key function is called only once for each element in the list\n",
    "seq1"
   ]
  },
  {
   "cell_type": "markdown",
   "metadata": {},
   "source": [
    "Consider a situation where we want to sort a collection of DNA sequences by the number of **A** nucleotides. \n",
    "We could write a function that counts the number of A's, or we could write a lambda expression to calculate the same thing. "
   ]
  },
  {
   "cell_type": "code",
   "execution_count": null,
   "metadata": {},
   "outputs": [],
   "source": [
    "# using a lambda expression\n",
    "print(sorted(seq1, key=lambda x : x.count('A')))"
   ]
  },
  {
   "cell_type": "code",
   "execution_count": null,
   "metadata": {},
   "outputs": [],
   "source": [
    "A = seq1.count('A')"
   ]
  },
  {
   "cell_type": "markdown",
   "metadata": {},
   "source": [
    "Ask the user the sequence:"
   ]
  },
  {
   "cell_type": "code",
   "execution_count": null,
   "metadata": {
    "scrolled": true
   },
   "outputs": [],
   "source": [
    "DNA = input('Enter your DNA sequence: ' ) "
   ]
  },
  {
   "cell_type": "code",
   "execution_count": null,
   "metadata": {},
   "outputs": [],
   "source": [
    "#introducing 4 variables that will hold the 4 nucleotides\n",
    "A = DNA.count('A')\n",
    "T = DNA.count('T')\n",
    "C = DNA.count('C')\n",
    "G = DNA.count('G')\n",
    "print('You have', A, 'Adenines in your sequence')\n",
    "print('You have', T, 'Thymines in your sequence')\n",
    "print('You have', C, 'Cytosines in your sequence')\n",
    "print('You have', G, 'Guanines in your sequence')"
   ]
  },
  {
   "cell_type": "markdown",
   "metadata": {},
   "source": [
    "Now we calculate the ratio of nucleotides in the sequence"
   ]
  },
  {
   "cell_type": "code",
   "execution_count": null,
   "metadata": {
    "scrolled": true
   },
   "outputs": [],
   "source": [
    "print('The CG ratio is: ', (C + G)/(G + C + A + T))"
   ]
  },
  {
   "cell_type": "code",
   "execution_count": null,
   "metadata": {
    "scrolled": true
   },
   "outputs": [],
   "source": [
    "print('The AG ratio is: ', (A + G)/(G + C + A + T))"
   ]
  },
  {
   "cell_type": "code",
   "execution_count": null,
   "metadata": {},
   "outputs": [],
   "source": [
    "print('The TG ratio is: ', (T + G)/(G + C + A + T))"
   ]
  },
  {
   "cell_type": "code",
   "execution_count": null,
   "metadata": {},
   "outputs": [],
   "source": [
    "print('The CA ratio is: ', (C + A)/(G + C + A + T))"
   ]
  },
  {
   "cell_type": "code",
   "execution_count": null,
   "metadata": {
    "scrolled": true
   },
   "outputs": [],
   "source": [
    "print('The CT ratio is: ', (C + T)/(G + C + A + T))"
   ]
  },
  {
   "cell_type": "code",
   "execution_count": null,
   "metadata": {},
   "outputs": [],
   "source": [
    "print('The AT ratio is: ', (A + T)/(G + C + A + T))"
   ]
  },
  {
   "cell_type": "code",
   "execution_count": null,
   "metadata": {},
   "outputs": [],
   "source": [
    "print('The AC ratio is: ', (A + C)/(G + C + A + T))"
   ]
  },
  {
   "cell_type": "code",
   "execution_count": null,
   "metadata": {},
   "outputs": [],
   "source": []
  }
 ],
 "metadata": {
  "kernelspec": {
   "display_name": "Python 3",
   "language": "python",
   "name": "python3"
  },
  "language_info": {
   "codemirror_mode": {
    "name": "ipython",
    "version": 3
   },
   "file_extension": ".py",
   "mimetype": "text/x-python",
   "name": "python",
   "nbconvert_exporter": "python",
   "pygments_lexer": "ipython3",
   "version": "3.7.1"
  }
 },
 "nbformat": 4,
 "nbformat_minor": 2
}
